{
 "cells": [
  {
   "cell_type": "markdown",
   "metadata": {},
   "source": [
    "**Question 1**.\n",
    "\n",
    "Firstly, let's define the network parameters relevant to our problem.\n",
    "\n",
    "$L$: number of network layers, such that $\\ell \\in \\{1, \\ldots, L-1\\}$\n",
    "\n",
    "$W^{(\\ell)}$: A weight matrix for the $\\ell^{th}$ layer, where the entry $w_{jk}^{(\\ell)}$ represents the weight from the $k^{th}$ nueron in the $(\\ell - 1)^{th}$ layer to the $j^{th}$ neuron in the $\\ell^{th}$ layer \n",
    "\n",
    "$b^{(\\ell)}$: A bias vector whose $j^{th}$ entry is the bias term for the $j^{th}$ neuron in layer $\\ell$\n",
    "\n",
    "$z_j^{(\\ell)} = W^{\\ell}a^{(\\ell - 1)} + b^{(\\ell)}$: the $j^{th}$ weighted input for the $\\ell^{th}$ layer\n",
    "\n",
    "$a_j^{(\\ell)} = \\sigma (z_j^{(\\ell)})$: The $j^{th}$ activated neuron in the $\\ell^{th}$ layer\n",
    "\n",
    "Now, in order to derive an expression for $\\frac{\\partial E}{\\partial b_i^{(\\ell)}}$, we must first introduce an intermediary quantity, $\\delta_i^{(\\ell)}$, which we'll define as the the error in the $i^{th}$ neuron in the $\\ell^{th}$ layer. This term has the following general equation:\n",
    "\n",
    "$$\n",
    "\\begin{aligned}\n",
    "\\delta_i^{(\\ell)} = \\frac{\\partial E}{\\partial z_i^{(\\ell)}}.\n",
    "\\end{aligned}\n",
    "$$\n",
    "\n",
    "With this term we are ready to derive $\\frac{\\partial E}{\\partial b_i^{(\\ell)}}$, however, we'll lay some additional conceptual framework first, simplifying the later task of explaining how $\\frac{\\partial E}{\\partial b_i^{(\\ell)}}$ is computed during training.\n",
    "\n",
    "We begin by defining a singular error, in particular, $\\delta_j^{L}$, the error in the $j^th$ nueron in the last layer. Using our general definition above as well as the chain rule, we can rewrite $\\delta_j^{(L)}$ as\n",
    "\n",
    "$$\n",
    "\\begin{aligned}\n",
    "\\delta_j^{(L)} = \\frac{\\partial E}{\\partial a_j^{(L)}}\\frac{\\partial a_j^{(L)}}{\\partial z_j^{(L)}}.\n",
    "\\end{aligned}\n",
    "$$\n",
    "\n",
    "Using this singular piece, we write the vector of errors in the last layer as\n",
    "\n",
    "$$\n",
    "\\delta^{(L)} = \\nabla_a E \\odot \\sigma'(z^{(L)}).\n",
    "$$\n",
    "\n",
    "Now, with this key concept, let's define, $\\delta^{(\\ell)}$, the vector of errors associated with an arbitrary layer of neurons $\\ell$:\n",
    "\n",
    "$$\n",
    "\\begin{aligned}\n",
    "\\delta^{(l)} = \\left([W^{(\\ell + 1)}]^T\\delta^{(\\ell + 1)}\\right) \\odot \\sigma'(z^{(\\ell)}).\n",
    "\\end{aligned}\n",
    "$$\n",
    "\n",
    "Within this equation lies the idea of $\\textit{backpropagation}$. To see why, let's look at how this calculation plays out for a singular neuron in the $\\ell^{th}$ layer. Examining neuron $a_j^{\\ell}$, the equation for $\\delta_j^{(\\ell)}$ becomes \n",
    "\n",
    "$$\n",
    "\\left([W^{(\\ell + 1)}]^T_{j} \\cdot \\delta^{(\\ell + 1)}\\right)* \\frac{\\partial a_j^{(\\ell)}}{\\partial z_j^{(\\ell)}},\n",
    "$$\n",
    "\n",
    "where $[W^{(\\ell + 1)}]^T_{j}$ is the $j^{th}$ row in the transposed weight matrix. Observe that in this way the error due to the neurons in layer $\\ell + 1$ is propagated backward to layer $\\ell$, where we then apply the chain rule one last time to compute our desired error term.\n",
    "\n",
    "From here the expression for the error due to the bias term is trivial to compute. As $b_i^{(\\ell)}$ is one of the components in $z_i^{(l)}$, we can formulate it as a continuation of our partial derivative:\n",
    "\n",
    "$$\n",
    "\\begin{aligned}\n",
    "\\frac{\\partial E}{\\partial b_i^{(\\ell)}} = \\frac{\\partial E}{\\partial z_i^{(\\ell)}} * \\frac{\\partial z_i^{(\\ell)}}{\\partial b_i^{(\\ell)}}.\n",
    "\\end{aligned}\n",
    "$$\n",
    "\n",
    "Recalling our previously defined error term $\\delta_i^{(\\ell)}$ this equation becomes\n",
    "\n",
    "$$\n",
    "\\begin{aligned}\n",
    "\\frac{\\partial E}{\\partial b_i^{(\\ell)}} = \\delta_i^{(\\ell)} * \\frac{\\partial z_i^{(\\ell)}}{\\partial b_i^{(\\ell)}}.\n",
    "\\end{aligned}\n",
    "$$\n",
    "\n",
    "Finally, as the bias term is simply a scalar value, the expression simplies to\n",
    "\n",
    "$$\n",
    "\\begin{aligned}\n",
    "\\frac{\\partial E}{\\partial b_i^{(\\ell)}} = \\delta_i^{(\\ell)}.\n",
    "\\end{aligned}\n",
    "$$\n",
    "\n",
    "Through the process of deriving this term, its computation also becomes apparent. In order to run the code as efficiently as possible we can use each previous computation of $\\frac{\\partial E}{\\partial b_i^{(\\ell)}}$ to compute the quanitity in layer $\\ell$. To be more specific, we begin by computing $\\delta^{(L)}$ using whatever cost and activation functions we've specified, which then will also give the partials with respect to the biases and weights. We then move backward through the model, using $\\delta^{(\\ell + 1)}$ (and the other relevant quantities) to compute the same properties in layer $\\ell$. In this way, the implementation of backpropagation is similar to dynamic programming/memoization as we are computing/storing smaller quantities of the larger problem in order to compute said larger problem."
   ]
  },
  {
   "cell_type": "code",
   "execution_count": 73,
   "metadata": {},
   "outputs": [],
   "source": [
    "import numpy as np\n",
    "import matplotlib as mlp\n",
    "import matplotlib.pyplot as plt"
   ]
  },
  {
   "cell_type": "markdown",
   "metadata": {},
   "source": [
    "**Question 2**\n",
    "Below is a NeuralNetwork class which will be used for both questions two and three."
   ]
  },
  {
   "cell_type": "code",
   "execution_count": 226,
   "metadata": {},
   "outputs": [],
   "source": [
    "class NeuralNetwork():\n",
    "    \n",
    "    def __init__(self, layers):\n",
    "        self.num_layers = len(layers)\n",
    "        self.layers = layers\n",
    "        self.biases = [np.random.randn(x, 1) for x in layers[1:]]\n",
    "        # notice that we create the TRANSPOSED weight matrix\n",
    "        self.weights = [np.random.randn(y, x) for x, y in zip(layers[:-1], layers[1:])]\n",
    "\n",
    "    def feed_forward(self, input):\n",
    "        for b, w in zip(self.biases[:-1], self.weights[:-1]):\n",
    "            z = np.dot(w, input) + b\n",
    "            input = self.activate(z)\n",
    "        w = self.weights[-1]\n",
    "        return np.dot(w, input) + self.biases[-1]\n",
    "\n",
    "    def gradient_descent(self, training_data, eta):\n",
    "        n = len(training_data)\n",
    "        nabla_b = [np.zeros(b.shape) for b in self.biases]\n",
    "        nabla_w = [np.zeros(w.shape) for w in self.weights]\n",
    "        for _ in range(10000):\n",
    "            for x, y in training_data:\n",
    "                delta_nabla_b, delta_nabla_w = self.backpropagation(x, y)\n",
    "                nabla_b = [nb + dnb for nb, dnb in zip(nabla_b, delta_nabla_b)]\n",
    "                nabla_w = [nw + dnw for nw, dnw in zip(nabla_w, delta_nabla_w)]\n",
    "            self.weights = [w - (eta/n)*nw for w, nw in zip(self.weights, nabla_w)]\n",
    "            self.biases = [b - (eta/n)*nb for b, nb in zip(self.biases, nabla_b)]\n",
    "    \n",
    "    def backpropagation(self, x, y):\n",
    "        nabla_b = [np.zeros(b.shape) for b in self.biases]\n",
    "        nabla_w = [np.zeros(w.shape) for w in self.weights]\n",
    "        # forward pass\n",
    "        act_input = x\n",
    "        act_inputs = [x]\n",
    "        w_inputs = []\n",
    "        for b, w in zip(self.biases[:-1], self.weights[:-1]):\n",
    "            z = np.dot(w, act_input) + b\n",
    "            w_inputs.append(z)\n",
    "            act_input = self.activate(z)\n",
    "            act_inputs.append(act_input)\n",
    "        # Compute output layer, no tanh activation applied\n",
    "        z = np.dot(self.weights[-1], act_input) + self.biases[-1]\n",
    "        w_inputs.append(z)\n",
    "        act_input = z\n",
    "        act_inputs.append(act_input)\n",
    "        # back propagate\n",
    "        delta = self.loss_deriv(act_inputs[-1], y)\n",
    "        nabla_b[-1] = delta\n",
    "        nabla_w[-1] = np.dot(delta, act_inputs[-2].T)\n",
    "        for i in range(2, self.num_layers):\n",
    "            z = w_inputs[-i]\n",
    "            a = self.activate_deriv(z)\n",
    "            delta = np.dot(self.weights[-i + 1].transpose(), delta) * a\n",
    "            nabla_b[-i] = delta\n",
    "            nabla_w[-i] = np.dot(delta, act_inputs[-i - 1].T)\n",
    "            # nabla_w[-i] = delta @ act_inputs[-i - 1].T\n",
    "        return (nabla_b, nabla_w)\n",
    "    \n",
    "    def loss_deriv(self, predictions, y):\n",
    "        return (predictions - y)\n",
    "\n",
    "    def activate(self, s):\n",
    "        return np.tanh(s)\n",
    "    \n",
    "    def activate_deriv(self, s):\n",
    "        return 1.-np.tanh(x)**2\n"
   ]
  },
  {
   "cell_type": "code",
   "execution_count": 227,
   "metadata": {},
   "outputs": [],
   "source": [
    "net1 = NeuralNetwork([1, 3, 1])"
   ]
  },
  {
   "cell_type": "code",
   "execution_count": 231,
   "metadata": {},
   "outputs": [
    {
     "name": "stderr",
     "output_type": "stream",
     "text": [
      "<ipython-input-231-bc66bf6b4931>:17: UserWarning: Matplotlib is currently using module://ipykernel.pylab.backend_inline, which is a non-GUI backend, so cannot show the figure.\n",
      "  fig.show()\n"
     ]
    },
    {
     "data": {
      "image/png": "[encoded data removed]",
      "text/plain": [
       "<Figure size 432x288 with 1 Axes>"
      ]
     },
     "metadata": {
      "needs_background": "light"
     },
     "output_type": "display_data"
    }
   ],
   "source": [
    "x = np.linspace(0, 1, 50)\n",
    "y = np.sin(2*np.pi*x)\n",
    "\n",
    "training_data = [(x, y) for x, y in zip(x, y)]\n",
    "\n",
    "net1.gradient_descent(training_data, 0.00001)\n",
    "\n",
    "test_x = np.linspace(0, 1, 1000)\n",
    "prediction = []\n",
    "for x1 in test_x:\n",
    "    prediction.append(net1.feed_forward(x1).item(0))\n",
    "\n",
    "fig, ax = plt.subplots()\n",
    "ax.scatter(x, y, color = \"red\")\n",
    "ax.plot(test_x, prediction, color = \"green\")\n",
    "\n",
    "fig.show()"
   ]
  },
  {
   "cell_type": "markdown",
   "metadata": {},
   "source": [
    "**Question 3**"
   ]
  },
  {
   "cell_type": "markdown",
   "metadata": {},
   "source": [
    "We will build fifty-two different neural networks of various sizes."
   ]
  },
  {
   "cell_type": "code",
   "execution_count": 214,
   "metadata": {},
   "outputs": [],
   "source": [
    "diff_sizes = []\n",
    "for i in range(5, 30, 5):\n",
    "    for j in range(5, 30, 5):\n",
    "        diff_sizes.append([1, i, j, 1])\n",
    "\n",
    "for i in range(5, 20, 5):\n",
    "    for j in range(5, 20, 5):\n",
    "        for k in range(5, 20, 5):\n",
    "            diff_sizes.append([1, i, j, k, 1])"
   ]
  },
  {
   "cell_type": "code",
   "execution_count": 215,
   "metadata": {},
   "outputs": [],
   "source": [
    "x_train = np.linspace(0, 1, 30)\n",
    "y_train = np.sin(2*np.pi*x_train) + np.random.normal(0, 0.1, 30)\n",
    "training_data = [(x, y) for x, y in zip(x_train, y_train)]\n",
    "\n",
    "test_x = np.linspace(0, 1, 1000)"
   ]
  },
  {
   "cell_type": "markdown",
   "metadata": {},
   "source": [
    "Let's look at a plot of the training data."
   ]
  },
  {
   "cell_type": "code",
   "execution_count": 218,
   "metadata": {},
   "outputs": [
    {
     "name": "stderr",
     "output_type": "stream",
     "text": [
      "<ipython-input-218-ac0513414d23>:3: UserWarning: Matplotlib is currently using module://ipykernel.pylab.backend_inline, which is a non-GUI backend, so cannot show the figure.\n",
      "  fig.show()\n"
     ]
    },
    {
     "data": {
      "image/png": "[encoded data removed]",
      "text/plain": [
       "<Figure size 432x288 with 1 Axes>"
      ]
     },
     "metadata": {
      "needs_background": "light"
     },
     "output_type": "display_data"
    }
   ],
   "source": [
    "fig, ax = plt.subplots()\n",
    "ax.scatter(x_train, y_train, color = \"red\")\n",
    "fig.show()"
   ]
  },
  {
   "cell_type": "markdown",
   "metadata": {},
   "source": [
    "Before looking at the fifty-two bigger models, we will first build three models with only one hidden layer, but varying number of neurons within that layer.\n",
    "\n",
    "5 neurons:"
   ]
  },
  {
   "cell_type": "code",
   "execution_count": 220,
   "metadata": {},
   "outputs": [
    {
     "name": "stderr",
     "output_type": "stream",
     "text": [
      "<ipython-input-220-0baae416abd8>:11: UserWarning: Matplotlib is currently using module://ipykernel.pylab.backend_inline, which is a non-GUI backend, so cannot show the figure.\n",
      "  fig.show()\n"
     ]
    },
    {
     "data": {
      "image/png": "[encoded data removed]",
      "text/plain": [
       "<Figure size 432x288 with 1 Axes>"
      ]
     },
     "metadata": {
      "needs_background": "light"
     },
     "output_type": "display_data"
    }
   ],
   "source": [
    "net = NeuralNetwork([1, 5, 1])\n",
    "net.gradient_descent(training_data, 0.001)\n",
    "\n",
    "prediction = []\n",
    "for x1 in test_x:\n",
    "    prediction.append(net1.feed_forward(x1).item(0))\n",
    "\n",
    "fig, ax = plt.subplots()\n",
    "ax.scatter(x_train, y_train, color = \"red\")\n",
    "ax.plot(test_x, prediction, color = \"green\")\n",
    "fig.show()"
   ]
  },
  {
   "cell_type": "markdown",
   "metadata": {},
   "source": [
    "10 neurons:"
   ]
  },
  {
   "cell_type": "code",
   "execution_count": 221,
   "metadata": {},
   "outputs": [
    {
     "name": "stderr",
     "output_type": "stream",
     "text": [
      "<ipython-input-221-049f9916ef5f>:11: UserWarning: Matplotlib is currently using module://ipykernel.pylab.backend_inline, which is a non-GUI backend, so cannot show the figure.\n",
      "  fig.show()\n"
     ]
    },
    {
     "data": {
      "image/png": "[encoded data removed]",
      "text/plain": [
       "<Figure size 432x288 with 1 Axes>"
      ]
     },
     "metadata": {
      "needs_background": "light"
     },
     "output_type": "display_data"
    }
   ],
   "source": [
    "net = NeuralNetwork([1, 10, 1])\n",
    "net.gradient_descent(training_data, 0.001)\n",
    "\n",
    "prediction = []\n",
    "for x1 in test_x:\n",
    "    prediction.append(net1.feed_forward(x1).item(0))\n",
    "\n",
    "fig, ax = plt.subplots()\n",
    "ax.scatter(x_train, y_train, color = \"red\")\n",
    "ax.plot(test_x, prediction, color = \"green\")\n",
    "fig.show()"
   ]
  },
  {
   "cell_type": "markdown",
   "metadata": {},
   "source": [
    "15 neurons:"
   ]
  },
  {
   "cell_type": "code",
   "execution_count": 222,
   "metadata": {},
   "outputs": [
    {
     "name": "stderr",
     "output_type": "stream",
     "text": [
      "<ipython-input-222-b4b4b982cce7>:11: UserWarning: Matplotlib is currently using module://ipykernel.pylab.backend_inline, which is a non-GUI backend, so cannot show the figure.\n",
      "  fig.show()\n"
     ]
    },
    {
     "data": {
      "image/png": "[encoded data removed]",
      "text/plain": [
       "<Figure size 432x288 with 1 Axes>"
      ]
     },
     "metadata": {
      "needs_background": "light"
     },
     "output_type": "display_data"
    }
   ],
   "source": [
    "net = NeuralNetwork([1, 15, 1])\n",
    "net.gradient_descent(training_data, 0.001)\n",
    "\n",
    "prediction = []\n",
    "for x1 in test_x:\n",
    "    prediction.append(net1.feed_forward(x1).item(0))\n",
    "\n",
    "fig, ax = plt.subplots()\n",
    "ax.scatter(x_train, y_train, color = \"red\")\n",
    "ax.plot(test_x, prediction, color = \"green\")\n",
    "fig.show()"
   ]
  },
  {
   "cell_type": "markdown",
   "metadata": {},
   "source": [
    "There is clearly something incorrect with my Neural Network code as when I attempt to build a model with more than one hidden layer my dot product calculation breaks. I apologize for not taking the time to fix it. "
   ]
  },
  {
   "cell_type": "code",
   "execution_count": 198,
   "metadata": {},
   "outputs": [
    {
     "name": "stdout",
     "output_type": "stream",
     "text": [
      "[1, 5, 5, 1]\n"
     ]
    },
    {
     "ename": "ValueError",
     "evalue": "shapes (5,50) and (1,5) not aligned: 50 (dim 1) != 1 (dim 0)",
     "output_type": "error",
     "traceback": [
      "\u001b[0;31m---------------------------------------------------------------------------\u001b[0m",
      "\u001b[0;31mValueError\u001b[0m                                Traceback (most recent call last)",
      "\u001b[0;32m<ipython-input-198-e9b047028ca0>\u001b[0m in \u001b[0;36m<module>\u001b[0;34m\u001b[0m\n\u001b[1;32m      2\u001b[0m     \u001b[0mprint\u001b[0m\u001b[0;34m(\u001b[0m\u001b[0ml\u001b[0m\u001b[0;34m)\u001b[0m\u001b[0;34m\u001b[0m\u001b[0;34m\u001b[0m\u001b[0m\n\u001b[1;32m      3\u001b[0m     \u001b[0mnet\u001b[0m \u001b[0;34m=\u001b[0m \u001b[0mNeuralNetwork\u001b[0m\u001b[0;34m(\u001b[0m\u001b[0ml\u001b[0m\u001b[0;34m)\u001b[0m\u001b[0;34m\u001b[0m\u001b[0;34m\u001b[0m\u001b[0m\n\u001b[0;32m----> 4\u001b[0;31m     \u001b[0mnet\u001b[0m\u001b[0;34m.\u001b[0m\u001b[0mgradient_descent\u001b[0m\u001b[0;34m(\u001b[0m\u001b[0mtraining_data\u001b[0m\u001b[0;34m,\u001b[0m \u001b[0;36m0.001\u001b[0m\u001b[0;34m)\u001b[0m\u001b[0;34m\u001b[0m\u001b[0;34m\u001b[0m\u001b[0m\n\u001b[0m\u001b[1;32m      5\u001b[0m \u001b[0;34m\u001b[0m\u001b[0m\n\u001b[1;32m      6\u001b[0m     \u001b[0mprediction\u001b[0m \u001b[0;34m=\u001b[0m \u001b[0;34m[\u001b[0m\u001b[0;34m]\u001b[0m\u001b[0;34m\u001b[0m\u001b[0;34m\u001b[0m\u001b[0m\n",
      "\u001b[0;32m<ipython-input-193-4121205eecb3>\u001b[0m in \u001b[0;36mgradient_descent\u001b[0;34m(self, training_data, eta)\u001b[0m\n\u001b[1;32m     20\u001b[0m         \u001b[0;31m# for _ in range(1000):\u001b[0m\u001b[0;34m\u001b[0m\u001b[0;34m\u001b[0m\u001b[0;34m\u001b[0m\u001b[0m\n\u001b[1;32m     21\u001b[0m         \u001b[0;32mfor\u001b[0m \u001b[0mx\u001b[0m\u001b[0;34m,\u001b[0m \u001b[0my\u001b[0m \u001b[0;32min\u001b[0m \u001b[0mtraining_data\u001b[0m\u001b[0;34m:\u001b[0m\u001b[0;34m\u001b[0m\u001b[0;34m\u001b[0m\u001b[0m\n\u001b[0;32m---> 22\u001b[0;31m             \u001b[0mdelta_nabla_b\u001b[0m\u001b[0;34m,\u001b[0m \u001b[0mdelta_nabla_w\u001b[0m \u001b[0;34m=\u001b[0m \u001b[0mself\u001b[0m\u001b[0;34m.\u001b[0m\u001b[0mbackpropagation\u001b[0m\u001b[0;34m(\u001b[0m\u001b[0mx\u001b[0m\u001b[0;34m,\u001b[0m \u001b[0my\u001b[0m\u001b[0;34m)\u001b[0m\u001b[0;34m\u001b[0m\u001b[0;34m\u001b[0m\u001b[0m\n\u001b[0m\u001b[1;32m     23\u001b[0m             \u001b[0mnabla_b\u001b[0m \u001b[0;34m=\u001b[0m \u001b[0;34m[\u001b[0m\u001b[0mnb\u001b[0m \u001b[0;34m+\u001b[0m \u001b[0mdnb\u001b[0m \u001b[0;32mfor\u001b[0m \u001b[0mnb\u001b[0m\u001b[0;34m,\u001b[0m \u001b[0mdnb\u001b[0m \u001b[0;32min\u001b[0m \u001b[0mzip\u001b[0m\u001b[0;34m(\u001b[0m\u001b[0mnabla_b\u001b[0m\u001b[0;34m,\u001b[0m \u001b[0mdelta_nabla_b\u001b[0m\u001b[0;34m)\u001b[0m\u001b[0;34m]\u001b[0m\u001b[0;34m\u001b[0m\u001b[0;34m\u001b[0m\u001b[0m\n\u001b[1;32m     24\u001b[0m             \u001b[0mnabla_w\u001b[0m \u001b[0;34m=\u001b[0m \u001b[0;34m[\u001b[0m\u001b[0mnw\u001b[0m \u001b[0;34m+\u001b[0m \u001b[0mdnw\u001b[0m \u001b[0;32mfor\u001b[0m \u001b[0mnw\u001b[0m\u001b[0;34m,\u001b[0m \u001b[0mdnw\u001b[0m \u001b[0;32min\u001b[0m \u001b[0mzip\u001b[0m\u001b[0;34m(\u001b[0m\u001b[0mnabla_w\u001b[0m\u001b[0;34m,\u001b[0m \u001b[0mdelta_nabla_w\u001b[0m\u001b[0;34m)\u001b[0m\u001b[0;34m]\u001b[0m\u001b[0;34m\u001b[0m\u001b[0;34m\u001b[0m\u001b[0m\n",
      "\u001b[0;32m<ipython-input-193-4121205eecb3>\u001b[0m in \u001b[0;36mbackpropagation\u001b[0;34m(self, x, y)\u001b[0m\n\u001b[1;32m     52\u001b[0m             \u001b[0mdelta\u001b[0m \u001b[0;34m=\u001b[0m \u001b[0mnp\u001b[0m\u001b[0;34m.\u001b[0m\u001b[0mdot\u001b[0m\u001b[0;34m(\u001b[0m\u001b[0mself\u001b[0m\u001b[0;34m.\u001b[0m\u001b[0mweights\u001b[0m\u001b[0;34m[\u001b[0m\u001b[0;34m-\u001b[0m\u001b[0mi\u001b[0m \u001b[0;34m+\u001b[0m \u001b[0;36m1\u001b[0m\u001b[0;34m]\u001b[0m\u001b[0;34m.\u001b[0m\u001b[0mtranspose\u001b[0m\u001b[0;34m(\u001b[0m\u001b[0;34m)\u001b[0m\u001b[0;34m,\u001b[0m \u001b[0mdelta\u001b[0m\u001b[0;34m)\u001b[0m \u001b[0;34m*\u001b[0m \u001b[0ma\u001b[0m\u001b[0;34m\u001b[0m\u001b[0;34m\u001b[0m\u001b[0m\n\u001b[1;32m     53\u001b[0m             \u001b[0mnabla_b\u001b[0m\u001b[0;34m[\u001b[0m\u001b[0;34m-\u001b[0m\u001b[0mi\u001b[0m\u001b[0;34m]\u001b[0m \u001b[0;34m=\u001b[0m \u001b[0mdelta\u001b[0m\u001b[0;34m\u001b[0m\u001b[0;34m\u001b[0m\u001b[0m\n\u001b[0;32m---> 54\u001b[0;31m             \u001b[0mnabla_w\u001b[0m\u001b[0;34m[\u001b[0m\u001b[0;34m-\u001b[0m\u001b[0mi\u001b[0m\u001b[0;34m]\u001b[0m \u001b[0;34m=\u001b[0m \u001b[0mnp\u001b[0m\u001b[0;34m.\u001b[0m\u001b[0mdot\u001b[0m\u001b[0;34m(\u001b[0m\u001b[0mdelta\u001b[0m\u001b[0;34m,\u001b[0m \u001b[0mact_inputs\u001b[0m\u001b[0;34m[\u001b[0m\u001b[0;34m-\u001b[0m\u001b[0mi\u001b[0m \u001b[0;34m-\u001b[0m \u001b[0;36m1\u001b[0m\u001b[0;34m]\u001b[0m\u001b[0;34m.\u001b[0m\u001b[0mtranspose\u001b[0m\u001b[0;34m(\u001b[0m\u001b[0;34m)\u001b[0m\u001b[0;34m)\u001b[0m\u001b[0;34m\u001b[0m\u001b[0;34m\u001b[0m\u001b[0m\n\u001b[0m\u001b[1;32m     55\u001b[0m         \u001b[0;32mreturn\u001b[0m \u001b[0;34m(\u001b[0m\u001b[0mnabla_b\u001b[0m\u001b[0;34m,\u001b[0m \u001b[0mnabla_w\u001b[0m\u001b[0;34m)\u001b[0m\u001b[0;34m\u001b[0m\u001b[0;34m\u001b[0m\u001b[0m\n\u001b[1;32m     56\u001b[0m \u001b[0;34m\u001b[0m\u001b[0m\n",
      "\u001b[0;32m<__array_function__ internals>\u001b[0m in \u001b[0;36mdot\u001b[0;34m(*args, **kwargs)\u001b[0m\n",
      "\u001b[0;31mValueError\u001b[0m: shapes (5,50) and (1,5) not aligned: 50 (dim 1) != 1 (dim 0)"
     ]
    }
   ],
   "source": [
    "for l in diff_sizes:\n",
    "    print(l)\n",
    "    net = NeuralNetwork(l)\n",
    "    net.gradient_descent(training_data, 0.001)\n",
    "\n",
    "    prediction = []\n",
    "    for x1 in test_x:\n",
    "        prediction.append(net1.feed_forward(x1).item(0))\n",
    "\n",
    "    fig, ax = plt.subplots()\n",
    "    ax.scatter(x_train, y_train, color = \"red\")\n",
    "    ax.plot(test_x, prediction, color = \"green\")\n",
    "    fig.show()\n",
    "    "
   ]
  },
  {
   "cell_type": "code",
   "execution_count": null,
   "metadata": {},
   "outputs": [],
   "source": []
  }
 ],
 "metadata": {
  "interpreter": {
   "hash": "6e02bbc43640bacef4559ec62de406786527dfcbaf646bb2b1b0ef86fcf1e58e"
  },
  "kernelspec": {
   "display_name": "Python 3",
   "language": "python",
   "name": "python3"
  },
  "language_info": {
   "codemirror_mode": {
    "name": "ipython",
    "version": 3
   },
   "file_extension": ".py",
   "mimetype": "text/x-python",
   "name": "python",
   "nbconvert_exporter": "python",
   "pygments_lexer": "ipython3",
   "version": "3.8.3"
  }
 },
 "nbformat": 4,
 "nbformat_minor": 4
}
